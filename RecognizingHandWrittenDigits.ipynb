{
 "cells": [
  {
   "cell_type": "code",
   "execution_count": null,
   "id": "faf0ba3a",
   "metadata": {},
   "outputs": [],
   "source": [
    "#19i-2184  UmerAhsan\n",
    "#19i-0401  Haider Ali\n",
    "#19i-0725  Eysha Fatima\n",
    "\n",
    "#Importing the libraries\n",
    "\n",
    "import numpy as np\n",
    "import tensorflow as tf\n",
    "from tensorflow import keras\n",
    "import matplotlib.pyplot as plt\n",
    "from keras.models import load_model\n"
   ]
  },
  {
   "cell_type": "code",
   "execution_count": null,
   "metadata": {},
   "outputs": [],
   "source": [
    "#importing the dataet\n",
    "mnist=tf.keras.datasets.mnist\n",
    "(x_train,y_train),(x_test,y_test)=mnist.load_data()"
   ]
  },
  {
   "cell_type": "code",
   "execution_count": null,
   "id": "02812cd2",
   "metadata": {},
   "outputs": [],
   "source": [
    "#normalizing the dataset\n",
    "x_train=tf.keras.utils.normalize(x_train,axis=1)\n",
    "x_test=tf.keras.utils.normalize(x_test,axis=1)"
   ]
  },
  {
   "cell_type": "code",
   "execution_count": null,
   "id": "fb1559ca",
   "metadata": {},
   "outputs": [],
   "source": [
    "#building the model\n",
    "model= tf.keras.models.Sequential()\n",
    "model.add(tf.keras.layers.Flatten(input_shape=(28,28)))\n",
    "model.add(tf.keras.layers.Dense(128,activation='relu'))\n",
    "model.add(tf.keras.layers.Dense(128,activation='relu'))\n",
    "model.add(tf.keras.layers.Dense(128,activation='softmax'))\n",
    "\n",
    "model.compile(loss='sparse_categorical_crossentropy',optimizer='adam',metrics=['accuracy'])"
   ]
  },
  {
   "cell_type": "code",
   "execution_count": null,
   "id": "994f20c5",
   "metadata": {},
   "outputs": [],
   "source": [
    "#testing the model and seeing loss and accuracy\n",
    "print('\\nLoss and accuracy : ')\n",
    "model.evaluate(x_test,y_test)\n"
   ]
  },
  {
   "cell_type": "code",
   "execution_count": null,
   "id": "136e43c4",
   "metadata": {},
   "outputs": [],
   "source": [
    "#predicting  first three images from testset\n",
    "for x in range(1,4):\n",
    "    plt.matshow(x_test[x])\n",
    "    prediction=model.predict(x_test)\n",
    "    print('\\nPrediction:')\n",
    "    print(np.argmax(prediction[x]))\n",
    "    "
   ]
  },
  {
   "cell_type": "code",
   "execution_count": null,
   "id": "8bba97a3",
   "metadata": {},
   "outputs": [],
   "source": [
    "\n",
    "#testing the model and seeing loss and accuracy\n",
    "print('\\nLoss and accuracy : ')\n",
    "model.evaluate(x_test,y_test)\n"
   ]
  },
  {
   "cell_type": "code",
   "execution_count": null,
   "id": "a51fa97e",
   "metadata": {},
   "outputs": [],
   "source": [
    "    \n",
    "#creating the confusion matrix\n",
    "\n",
    "y_test[:5]    \n",
    "y_predicted_labels = [np.argmax(i) for i in prediction]\n",
    "y_predicted_labels[:5]\n",
    "\n",
    "cm = tf.math.confusion_matrix(labels=y_test,predictions=y_predicted_labels)\n",
    "\n",
    "import seaborn as sn\n",
    "plt.figure(figsize = (10,7))\n",
    "sn.heatmap(cm,annot=True,fmt='d')\n",
    "plt.xlabel('Predicted')\n",
    "plt.ylabel('Truth')"
   ]
  },
  {
   "cell_type": "code",
   "execution_count": null,
   "id": "713bd891",
   "metadata": {},
   "outputs": [],
   "source": []
  }
 ],
 "metadata": {
  "kernelspec": {
   "display_name": "Python 3",
   "language": "python",
   "name": "python3"
  },
  "language_info": {
   "codemirror_mode": {
    "name": "ipython",
    "version": 3
   },
   "file_extension": ".py",
   "mimetype": "text/x-python",
   "name": "python",
   "nbconvert_exporter": "python",
   "pygments_lexer": "ipython3",
   "version": "3.11.4"
  }
 },
 "nbformat": 4,
 "nbformat_minor": 5
}
